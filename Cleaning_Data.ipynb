{
 "cells": [
  {
   "cell_type": "markdown",
   "id": "6055c3e3",
   "metadata": {},
   "source": [
    "# Import Libraries"
   ]
  },
  {
   "cell_type": "code",
   "execution_count": 1,
   "id": "95e3fe6c",
   "metadata": {},
   "outputs": [],
   "source": [
    "# Command Print Use Coloers \n",
    "from termcolor import cprint\n",
    "\n",
    "# Working With DataFrame\n",
    "import pandas as pd\n",
    "\n",
    "# Python Structs Type For Wide Variety Mathematical Operations Like Arrays\n",
    "import numpy as np\n",
    "# Libraries For Createing Visualizations\n",
    "import matplotlib.pyplot as plt\n",
    "import seaborn as sns\n",
    "%matplotlib inline\n",
    "\n",
    "#Create Table\n",
    "import csv"
   ]
  },
  {
   "cell_type": "markdown",
   "id": "3025d447",
   "metadata": {},
   "source": [
    "# Loading File To DataSet "
   ]
  },
  {
   "cell_type": "code",
   "execution_count": 2,
   "id": "af040817",
   "metadata": {},
   "outputs": [],
   "source": [
    "# Load The CSV To DataFrame\n",
    "dataset = pd.read_csv(\"BitData_Final.csv\")"
   ]
  },
  {
   "cell_type": "code",
   "execution_count": 3,
   "id": "d0422e14",
   "metadata": {},
   "outputs": [
    {
     "name": "stdout",
     "output_type": "stream",
     "text": [
      "\u001b[34mThe DataSet Shape Is:\u001b[0m\n",
      "\u001b[34m(3560, 12)\u001b[0m\n",
      "<class 'pandas.core.frame.DataFrame'>\n",
      "RangeIndex: 3560 entries, 0 to 3559\n",
      "Data columns (total 12 columns):\n",
      " #   Column                  Non-Null Count  Dtype  \n",
      "---  ------                  --------------  -----  \n",
      " 0   DATE                    3560 non-null   object \n",
      " 1   OPEN                    3560 non-null   float64\n",
      " 2   HIGH                    3560 non-null   float64\n",
      " 3   LOW                     3560 non-null   float64\n",
      " 4   CLOSE                   3560 non-null   float64\n",
      " 5   VOLUME                  3560 non-null   float64\n",
      " 6   MEAN HIGH-LOW           3560 non-null   float64\n",
      " 7   MEAN CLOSE-OPEN         3560 non-null   float64\n",
      " 8   TRENDS MEAN             3560 non-null   float64\n",
      " 9   UP|DOWN                 3560 non-null   object \n",
      " 10  POSITVE ANALZE TWEETS   3560 non-null   int64  \n",
      " 11  NEGATIVE ANALZE TWEETS  3560 non-null   int64  \n",
      "dtypes: float64(8), int64(2), object(2)\n",
      "memory usage: 333.9+ KB\n",
      "None\n",
      "\u001b[34mNo Emtey Values\u001b[0m\n"
     ]
    }
   ],
   "source": [
    "#Cheak DataFarme Size - Supposed to be (3560,12)\n",
    "cprint(\"The DataSet Shape Is:\", \"blue\")\n",
    "cprint(dataset.shape,\"blue\")\n",
    "\n",
    "#Check Empty Cells  \n",
    "print(dataset.info())\n",
    "cprint(\"No Emtey Values\", \"blue\")"
   ]
  },
  {
   "cell_type": "markdown",
   "id": "c029ea0e",
   "metadata": {},
   "source": [
    "# Converting Values From Categories Into Numbers "
   ]
  },
  {
   "cell_type": "code",
   "execution_count": 4,
   "id": "a3a0b753",
   "metadata": {},
   "outputs": [],
   "source": [
    "# Convertion Object Columns From Categroys Into Ints \n",
    "df2 = dataset.copy()\n",
    "replace_map ={'UP': 1, 'DOWN':0}\n",
    "df2.replace(replace_map, inplace=True)"
   ]
  },
  {
   "cell_type": "code",
   "execution_count": 5,
   "id": "a572dac7",
   "metadata": {},
   "outputs": [],
   "source": [
    "#Delete Columns Which Not Helping For The MechineLearn Stages\n",
    "df2 = df2.drop(['DATE'], axis=1) \n",
    "df2 = df2.drop(['VOLUME'], axis=1)"
   ]
  },
  {
   "cell_type": "markdown",
   "id": "358327ac",
   "metadata": {},
   "source": [
    "# Describe Pandas_Dataset"
   ]
  },
  {
   "cell_type": "code",
   "execution_count": 6,
   "id": "def71406",
   "metadata": {},
   "outputs": [
    {
     "name": "stdout",
     "output_type": "stream",
     "text": [
      "Describe:\n",
      "              DATE          OPEN          HIGH           LOW         CLOSE  \\\n",
      "count         3560   3560.000000   3560.000000   3560.000000   3560.000000   \n",
      "unique        3560           NaN           NaN           NaN           NaN   \n",
      "top     2021-12-29           NaN           NaN           NaN           NaN   \n",
      "freq             1           NaN           NaN           NaN           NaN   \n",
      "mean           NaN   8045.348305   8243.914919   7834.184952   8059.038460   \n",
      "std            NaN  14319.309021  14660.922555  13944.627057  14336.467217   \n",
      "min            NaN      2.220000      2.270000      2.220000      2.240000   \n",
      "25%            NaN    257.767500    266.580000    252.612500    258.947500   \n",
      "50%            NaN   1029.500000   1052.500000   1006.500000   1033.000000   \n",
      "75%            NaN   8762.500000   8918.000000   8543.500000   8761.750000   \n",
      "max            NaN  67622.000000  68858.000000  66464.000000  67601.000000   \n",
      "\n",
      "               VOLUME  MEAN HIGH-LOW  MEAN CLOSE-OPEN  TRENDS MEAN UP|DOWN  \\\n",
      "count     3560.000000    3560.000000      3560.000000  3560.000000    3560   \n",
      "unique            NaN            NaN              NaN          NaN       2   \n",
      "top               NaN            NaN              NaN          NaN      UP   \n",
      "freq              NaN            NaN              NaN          NaN    1988   \n",
      "mean      8856.110478    8038.811376      8051.944382    93.466368     NaN   \n",
      "std      60354.503310   14299.903514     14324.338820     6.241887     NaN   \n",
      "min          0.340000       2.000000         2.000000    22.921569     NaN   \n",
      "25%         11.812500     257.500000       257.875000    91.000000     NaN   \n",
      "50%         31.745000    1023.500000      1030.250000    95.000000     NaN   \n",
      "75%         78.480000    8742.125000      8759.625000    97.500000     NaN   \n",
      "max     902809.000000   67408.500000     67328.000000   100.000000     NaN   \n",
      "\n",
      "        POSITVE ANALZE TWEETS  NEGATIVE ANALZE TWEETS  \n",
      "count             3560.000000             3560.000000  \n",
      "unique                    NaN                     NaN  \n",
      "top                       NaN                     NaN  \n",
      "freq                      NaN                     NaN  \n",
      "mean                29.982584               12.591854  \n",
      "std                  5.792345                6.360129  \n",
      "min                 15.000000                2.000000  \n",
      "25%                 26.000000                9.000000  \n",
      "50%                 30.000000               11.000000  \n",
      "75%                 34.000000               15.000000  \n",
      "max                 46.000000               43.000000  \n"
     ]
    }
   ],
   "source": [
    "print(\"Describe:\")\n",
    "print(dataset.describe(include='all'))"
   ]
  },
  {
   "cell_type": "markdown",
   "id": "e726f842",
   "metadata": {},
   "source": [
    "# Adding Percent (%) Column Into df(2) "
   ]
  },
  {
   "cell_type": "code",
   "execution_count": 7,
   "id": "ab2c3fc0",
   "metadata": {},
   "outputs": [],
   "source": [
    "# Adds Percent Column Into Data_Set\n",
    "CHANGE = []\n",
    "index = 1\n",
    "for i in range(0, len(df2['CLOSE'])-1):\n",
    "    CHANGE.append((df2['CLOSE'][i] - df2['CLOSE'][index]) / df2['CLOSE'][index])\n",
    "    index +=1\n",
    "CHANGE.append(0)\n",
    "df2[\"CHANGE\"] = CHANGE"
   ]
  },
  {
   "cell_type": "markdown",
   "id": "a1288c23",
   "metadata": {},
   "source": [
    "# Oultliers Dropping "
   ]
  },
  {
   "cell_type": "code",
   "execution_count": 8,
   "id": "920efd21",
   "metadata": {},
   "outputs": [],
   "source": [
    "import warnings"
   ]
  },
  {
   "cell_type": "code",
   "execution_count": 9,
   "id": "e544a971",
   "metadata": {},
   "outputs": [],
   "source": [
    "#Do not show warnings\n",
    "warnings.filterwarnings(\"ignore\")"
   ]
  },
  {
   "cell_type": "code",
   "execution_count": 10,
   "id": "e08278a1",
   "metadata": {},
   "outputs": [
    {
     "name": "stdout",
     "output_type": "stream",
     "text": [
      "\u001b[34mOur Date is Time_Series So We are looking For Outliers With %\u001b[0m\n"
     ]
    },
    {
     "data": {
      "text/plain": [
       "<AxesSubplot:xlabel='CHANGE'>"
      ]
     },
     "execution_count": 10,
     "metadata": {},
     "output_type": "execute_result"
    },
    {
     "data": {
      "image/png": "[encoded data removed]",
      "text/plain": [
       "<Figure size 1296x288 with 1 Axes>"
      ]
     },
     "metadata": {
      "needs_background": "light"
     },
     "output_type": "display_data"
    }
   ],
   "source": [
    "cprint(\"Our Date is Time_Series So We are looking For Outliers With %\", \"blue\")\n",
    "\n",
    "outliers_length = plt.figure(figsize=(18, 4))\n",
    "sns.boxplot(df2['CHANGE'], whis=1.5, color=\"#CD6155\")"
   ]
  },
  {
   "cell_type": "code",
   "execution_count": 15,
   "id": "541d352a",
   "metadata": {},
   "outputs": [],
   "source": [
    "#define array of data\n",
    "Q1 = np.percentile(df2['CHANGE'], 25)\n",
    "Q3 = np.percentile(df2['CHANGE'], 75)\n",
    "IQR = Q3 - Q1\n",
    "\n",
    "#display interquartile range \n",
    "outliers1 = df2[(df2['CHANGE'] < Q1 -1.5*IQR) | (df2['CHANGE'] > Q3 +1.5*IQR)].index\n"
   ]
  },
  {
   "cell_type": "code",
   "execution_count": 16,
   "id": "cabc6dc2",
   "metadata": {},
   "outputs": [
    {
     "data": {
      "text/html": [
       "<div>\n",
       "<style scoped>\n",
       "    .dataframe tbody tr th:only-of-type {\n",
       "        vertical-align: middle;\n",
       "    }\n",
       "\n",
       "    .dataframe tbody tr th {\n",
       "        vertical-align: top;\n",
       "    }\n",
       "\n",
       "    .dataframe thead th {\n",
       "        text-align: right;\n",
       "    }\n",
       "</style>\n",
       "<table border=\"1\" class=\"dataframe\">\n",
       "  <thead>\n",
       "    <tr style=\"text-align: right;\">\n",
       "      <th></th>\n",
       "      <th>OPEN</th>\n",
       "      <th>HIGH</th>\n",
       "      <th>LOW</th>\n",
       "      <th>CLOSE</th>\n",
       "      <th>MEAN HIGH-LOW</th>\n",
       "      <th>MEAN CLOSE-OPEN</th>\n",
       "      <th>TRENDS MEAN</th>\n",
       "      <th>UP|DOWN</th>\n",
       "      <th>POSITVE ANALZE TWEETS</th>\n",
       "      <th>NEGATIVE ANALZE TWEETS</th>\n",
       "      <th>CHANGE</th>\n",
       "    </tr>\n",
       "  </thead>\n",
       "  <tbody>\n",
       "    <tr>\n",
       "      <th>0</th>\n",
       "      <td>47666.00</td>\n",
       "      <td>48264.00</td>\n",
       "      <td>46982.00</td>\n",
       "      <td>47896.00</td>\n",
       "      <td>47623.0</td>\n",
       "      <td>47781.0</td>\n",
       "      <td>99.000000</td>\n",
       "      <td>1</td>\n",
       "      <td>29</td>\n",
       "      <td>10</td>\n",
       "      <td>0.002659</td>\n",
       "    </tr>\n",
       "    <tr>\n",
       "      <th>1</th>\n",
       "      <td>50808.00</td>\n",
       "      <td>50808.00</td>\n",
       "      <td>47602.00</td>\n",
       "      <td>47769.00</td>\n",
       "      <td>49205.0</td>\n",
       "      <td>49288.5</td>\n",
       "      <td>99.500000</td>\n",
       "      <td>0</td>\n",
       "      <td>29</td>\n",
       "      <td>10</td>\n",
       "      <td>-0.063885</td>\n",
       "    </tr>\n",
       "    <tr>\n",
       "      <th>2</th>\n",
       "      <td>51041.00</td>\n",
       "      <td>52191.00</td>\n",
       "      <td>50846.00</td>\n",
       "      <td>51029.00</td>\n",
       "      <td>51518.5</td>\n",
       "      <td>51035.0</td>\n",
       "      <td>98.000000</td>\n",
       "      <td>0</td>\n",
       "      <td>28</td>\n",
       "      <td>10</td>\n",
       "      <td>-0.000176</td>\n",
       "    </tr>\n",
       "    <tr>\n",
       "      <th>3</th>\n",
       "      <td>50770.00</td>\n",
       "      <td>51407.00</td>\n",
       "      <td>50016.00</td>\n",
       "      <td>51038.00</td>\n",
       "      <td>50711.5</td>\n",
       "      <td>50904.0</td>\n",
       "      <td>98.500000</td>\n",
       "      <td>1</td>\n",
       "      <td>28</td>\n",
       "      <td>10</td>\n",
       "      <td>0.005180</td>\n",
       "    </tr>\n",
       "    <tr>\n",
       "      <th>4</th>\n",
       "      <td>51249.00</td>\n",
       "      <td>51437.00</td>\n",
       "      <td>50751.00</td>\n",
       "      <td>50775.00</td>\n",
       "      <td>51094.0</td>\n",
       "      <td>51012.0</td>\n",
       "      <td>100.000000</td>\n",
       "      <td>0</td>\n",
       "      <td>29</td>\n",
       "      <td>10</td>\n",
       "      <td>-0.005114</td>\n",
       "    </tr>\n",
       "    <tr>\n",
       "      <th>...</th>\n",
       "      <td>...</td>\n",
       "      <td>...</td>\n",
       "      <td>...</td>\n",
       "      <td>...</td>\n",
       "      <td>...</td>\n",
       "      <td>...</td>\n",
       "      <td>...</td>\n",
       "      <td>...</td>\n",
       "      <td>...</td>\n",
       "      <td>...</td>\n",
       "      <td>...</td>\n",
       "    </tr>\n",
       "    <tr>\n",
       "      <th>3555</th>\n",
       "      <td>11.70</td>\n",
       "      <td>11.70</td>\n",
       "      <td>11.70</td>\n",
       "      <td>11.70</td>\n",
       "      <td>11.0</td>\n",
       "      <td>11.0</td>\n",
       "      <td>93.333333</td>\n",
       "      <td>1</td>\n",
       "      <td>34</td>\n",
       "      <td>6</td>\n",
       "      <td>0.000000</td>\n",
       "    </tr>\n",
       "    <tr>\n",
       "      <th>3556</th>\n",
       "      <td>11.70</td>\n",
       "      <td>11.70</td>\n",
       "      <td>11.70</td>\n",
       "      <td>11.70</td>\n",
       "      <td>11.0</td>\n",
       "      <td>11.0</td>\n",
       "      <td>89.500000</td>\n",
       "      <td>1</td>\n",
       "      <td>33</td>\n",
       "      <td>6</td>\n",
       "      <td>0.000000</td>\n",
       "    </tr>\n",
       "    <tr>\n",
       "      <th>3557</th>\n",
       "      <td>11.70</td>\n",
       "      <td>11.70</td>\n",
       "      <td>11.70</td>\n",
       "      <td>11.70</td>\n",
       "      <td>11.0</td>\n",
       "      <td>11.0</td>\n",
       "      <td>91.000000</td>\n",
       "      <td>1</td>\n",
       "      <td>34</td>\n",
       "      <td>6</td>\n",
       "      <td>0.000855</td>\n",
       "    </tr>\n",
       "    <tr>\n",
       "      <th>3558</th>\n",
       "      <td>11.85</td>\n",
       "      <td>11.85</td>\n",
       "      <td>11.15</td>\n",
       "      <td>11.69</td>\n",
       "      <td>11.0</td>\n",
       "      <td>11.0</td>\n",
       "      <td>91.000000</td>\n",
       "      <td>0</td>\n",
       "      <td>34</td>\n",
       "      <td>6</td>\n",
       "      <td>0.072477</td>\n",
       "    </tr>\n",
       "    <tr>\n",
       "      <th>3559</th>\n",
       "      <td>10.90</td>\n",
       "      <td>10.90</td>\n",
       "      <td>10.90</td>\n",
       "      <td>10.90</td>\n",
       "      <td>10.0</td>\n",
       "      <td>10.0</td>\n",
       "      <td>92.500000</td>\n",
       "      <td>1</td>\n",
       "      <td>34</td>\n",
       "      <td>6</td>\n",
       "      <td>0.000000</td>\n",
       "    </tr>\n",
       "  </tbody>\n",
       "</table>\n",
       "<p>3560 rows × 11 columns</p>\n",
       "</div>"
      ],
      "text/plain": [
       "          OPEN      HIGH       LOW     CLOSE  MEAN HIGH-LOW  MEAN CLOSE-OPEN  \\\n",
       "0     47666.00  48264.00  46982.00  47896.00        47623.0          47781.0   \n",
       "1     50808.00  50808.00  47602.00  47769.00        49205.0          49288.5   \n",
       "2     51041.00  52191.00  50846.00  51029.00        51518.5          51035.0   \n",
       "3     50770.00  51407.00  50016.00  51038.00        50711.5          50904.0   \n",
       "4     51249.00  51437.00  50751.00  50775.00        51094.0          51012.0   \n",
       "...        ...       ...       ...       ...            ...              ...   \n",
       "3555     11.70     11.70     11.70     11.70           11.0             11.0   \n",
       "3556     11.70     11.70     11.70     11.70           11.0             11.0   \n",
       "3557     11.70     11.70     11.70     11.70           11.0             11.0   \n",
       "3558     11.85     11.85     11.15     11.69           11.0             11.0   \n",
       "3559     10.90     10.90     10.90     10.90           10.0             10.0   \n",
       "\n",
       "      TRENDS MEAN  UP|DOWN  POSITVE ANALZE TWEETS  NEGATIVE ANALZE TWEETS  \\\n",
       "0       99.000000        1                     29                      10   \n",
       "1       99.500000        0                     29                      10   \n",
       "2       98.000000        0                     28                      10   \n",
       "3       98.500000        1                     28                      10   \n",
       "4      100.000000        0                     29                      10   \n",
       "...           ...      ...                    ...                     ...   \n",
       "3555    93.333333        1                     34                       6   \n",
       "3556    89.500000        1                     33                       6   \n",
       "3557    91.000000        1                     34                       6   \n",
       "3558    91.000000        0                     34                       6   \n",
       "3559    92.500000        1                     34                       6   \n",
       "\n",
       "        CHANGE  \n",
       "0     0.002659  \n",
       "1    -0.063885  \n",
       "2    -0.000176  \n",
       "3     0.005180  \n",
       "4    -0.005114  \n",
       "...        ...  \n",
       "3555  0.000000  \n",
       "3556  0.000000  \n",
       "3557  0.000855  \n",
       "3558  0.072477  \n",
       "3559  0.000000  \n",
       "\n",
       "[3560 rows x 11 columns]"
      ]
     },
     "execution_count": 16,
     "metadata": {},
     "output_type": "execute_result"
    }
   ],
   "source": [
    "df2"
   ]
  },
  {
   "cell_type": "code",
   "execution_count": null,
   "id": "229c2c63",
   "metadata": {},
   "outputs": [],
   "source": [
    "# Cleaning Data From Stage Outliers_Data \n",
    "df2.drop(labels=outliers1, inplace=True)"
   ]
  },
  {
   "cell_type": "code",
   "execution_count": null,
   "id": "7c355ef4",
   "metadata": {},
   "outputs": [],
   "source": [
    "# Save new CSV After Cleaning Stage\n",
    "df2.to_csv('Bit_AfterClean.csv')"
   ]
  }
 ],
 "metadata": {
  "kernelspec": {
   "display_name": "Python 3 (ipykernel)",
   "language": "python",
   "name": "python3"
  },
  "language_info": {
   "codemirror_mode": {
    "name": "ipython",
    "version": 3
   },
   "file_extension": ".py",
   "mimetype": "text/x-python",
   "name": "python",
   "nbconvert_exporter": "python",
   "pygments_lexer": "ipython3",
   "version": "3.9.7"
  }
 },
 "nbformat": 4,
 "nbformat_minor": 5
}

{
 "cells": [
  {
   "cell_type": "markdown",
   "id": "002b7e43",
   "metadata": {},
   "source": [
    "# Import Libraries"
   ]
  },
  {
   "cell_type": "code",
   "execution_count": 207,
   "id": "b0b20b29",
   "metadata": {},
   "outputs": [],
   "source": [
    "# Python Structs Type using for Wide Variety Mathematical Operations Like Arrays\n",
    "import numpy as np \n",
    "\n",
    "# Working with the DataFrame\n",
    "import pandas as pd\n",
    "\n",
    "#Dealing With Warnings\n",
    "import warnings"
   ]
  },
  {
   "cell_type": "code",
   "execution_count": 208,
   "id": "44e5a4cd",
   "metadata": {},
   "outputs": [],
   "source": [
    "# Importing the Model_SVM libarys\n",
    "\n",
    "from sklearn.svm import SVR\n",
    "from sklearn import svm\n",
    "from sklearn.model_selection import GridSearchCV\n",
    "from sklearn.model_selection import train_test_split"
   ]
  },
  {
   "cell_type": "code",
   "execution_count": 209,
   "id": "9b2f9630",
   "metadata": {},
   "outputs": [],
   "source": [
    "#Store the data into the variable df\n",
    "df = pd.read_csv('Bit_AfterClean.csv')\n",
    "#Do not show warnings\n",
    "warnings.filterwarnings(\"ignore\")"
   ]
  },
  {
   "cell_type": "code",
   "execution_count": 210,
   "id": "c44cc0f4",
   "metadata": {},
   "outputs": [],
   "source": [
    "df3 = df.copy()"
   ]
  },
  {
   "cell_type": "code",
   "execution_count": 211,
   "id": "eb360ef7",
   "metadata": {},
   "outputs": [],
   "source": [
    "#A variable for predicting 'n' days out into the future\n",
    "prediction_days = 30 #n = 30 days\n",
    "\n",
    "#Create another column (the target or dependent variable)\n",
    "df['PREDICTION'] = df[['CLOSE']].shift(-prediction_days)"
   ]
  },
  {
   "cell_type": "code",
   "execution_count": 212,
   "id": "ad260c4f",
   "metadata": {},
   "outputs": [],
   "source": [
    "df = df.drop(['Unnamed: 0'], axis=1)\n",
    "df = df.drop([\"CLOSE\"], axis=1)"
   ]
  },
  {
   "cell_type": "code",
   "execution_count": 213,
   "id": "af1274ff",
   "metadata": {},
   "outputs": [],
   "source": [
    "#CREATE THE INDEPENDENT DATA SET (X)\n",
    "\n",
    "# Convert the dataframe to a numpy array and drop the prediction column\n",
    "X = np.array(df.drop(['PREDICTION'],1))\n",
    "\n",
    "#Remove the last 'n' rows where 'n' is the prediction_days\n",
    "X= X[:len(df)-prediction_days]"
   ]
  },
  {
   "cell_type": "code",
   "execution_count": 214,
   "id": "0a032a1a",
   "metadata": {},
   "outputs": [],
   "source": [
    "#CREATE THE DEPENDENT DATA SET (y) \n",
    "# Convert the dataframe to a numpy array (All of the values including the NaN's) y = np.array(df['Prediction'])  \n",
    "# Get all of the y values except the last 'n' rows \n",
    "y = np.array(df['PREDICTION']) \n",
    "y = y[:-prediction_days] "
   ]
  },
  {
   "cell_type": "markdown",
   "id": "c037f8ec",
   "metadata": {},
   "source": [
    "# Prepring X,y"
   ]
  },
  {
   "cell_type": "code",
   "execution_count": 215,
   "id": "c7643186",
   "metadata": {},
   "outputs": [],
   "source": [
    "# Split the data into 80% training and 20% testing\n",
    "x_train, x_test, y_train, y_test = train_test_split(X, y, test_size=0.2, random_state = 42)\n",
    "\n",
    "# Set prediction_days_array equal to the last 30 rows of the original data set from the price column\n",
    "prediction_days_array = np.array(df.drop(['PREDICTION'],1))[:prediction_days]"
   ]
  },
  {
   "cell_type": "markdown",
   "id": "f1cc0ff4",
   "metadata": {},
   "source": [
    "# Creating and train the Support Vector Models "
   ]
  },
  {
   "cell_type": "code",
   "execution_count": 217,
   "id": "869f10bf",
   "metadata": {},
   "outputs": [
    {
     "name": "stdout",
     "output_type": "stream",
     "text": [
      "{'C': 10000, 'epsilon': 0.0001, 'gamma': 1e-07}\n"
     ]
    }
   ],
   "source": [
    "# Best Params To SVR_Models\n",
    "E = [0.1,0.01,0.001,0.0001]\n",
    "gamma =[1e-07, 1e-06,1e-05]\n",
    "Cs = [100, 1000, 10000]\n",
    "param_grid = {'gamma':gamma, 'epsilon' : E, 'C': Cs}\n",
    "grid_search = GridSearchCV(svm.SVR(), param_grid, cv=5)\n",
    "grid_search.fit(X, y)\n",
    "grid_search.best_params_\n",
    "print(grid_search.best_params_)"
   ]
  },
  {
   "cell_type": "code",
   "execution_count": 218,
   "id": "851e9945",
   "metadata": {},
   "outputs": [
    {
     "data": {
      "text/plain": [
       "SVR(C=10000, epsilon=0.0001, gamma=1e-07)"
      ]
     },
     "execution_count": 218,
     "metadata": {},
     "output_type": "execute_result"
    }
   ],
   "source": [
    "# Create and train the Support Vector Machine \n",
    "svr_rbf = SVR(epsilon=0.0001, C=10000, gamma=1e-07)#Create the model\n",
    "svr_rbf.fit(x_train, y_train) #Train the model"
   ]
  },
  {
   "cell_type": "markdown",
   "id": "08e8e569",
   "metadata": {},
   "source": [
    "# Predict's Results"
   ]
  },
  {
   "cell_type": "code",
   "execution_count": 219,
   "id": "24db4be4",
   "metadata": {},
   "outputs": [
    {
     "name": "stdout",
     "output_type": "stream",
     "text": [
      "svr_rbf accuracy:  0.9195387415464394\n"
     ]
    }
   ],
   "source": [
    "# Testing Model: Score returns the accuracy of the prediction. \n",
    "# The best possible score is 1.0\n",
    "svr_rbf_confidence = svr_rbf.score(x_test, y_test)\n",
    "print(\"svr_rbf accuracy: \", svr_rbf_confidence)"
   ]
  },
  {
   "cell_type": "code",
   "execution_count": 220,
   "id": "e3ca4aed",
   "metadata": {
    "scrolled": true
   },
   "outputs": [],
   "source": [
    "# Print the model predictions for the next 'n=30' days\n",
    "svm_prediction = svr_rbf.predict(prediction_days_array)"
   ]
  },
  {
   "cell_type": "code",
   "execution_count": 221,
   "id": "fe7f1035",
   "metadata": {},
   "outputs": [
    {
     "data": {
      "text/plain": [
       "array([41038.22860078, 56422.88460475, 57937.00034826, 56448.99916189,\n",
       "       57053.35905927, 41454.061158  , 40047.61642188, 39495.88945306,\n",
       "       35044.52842462, 39700.56886215, 36540.46150182, 36512.39021448,\n",
       "       40703.04433643, 39410.81966698, 39539.95341666, 46210.93630967,\n",
       "       39047.49793002, 38849.67293047, 46743.99188341, 56675.83227039,\n",
       "       57425.69094466, 47723.68518159, 42083.59102312, 48626.39439431,\n",
       "       54873.03420414, 53513.86543567, 54163.16080336, 52784.53375527,\n",
       "       49526.19258492, 50379.83436471])"
      ]
     },
     "execution_count": 221,
     "metadata": {},
     "output_type": "execute_result"
    }
   ],
   "source": [
    "svm_prediction"
   ]
  },
  {
   "cell_type": "code",
   "execution_count": 222,
   "id": "8386c470",
   "metadata": {},
   "outputs": [
    {
     "data": {
      "text/plain": [
       "Text(0, 0.5, '$ Close')"
      ]
     },
     "execution_count": 222,
     "metadata": {},
     "output_type": "execute_result"
    },
    {
     "data": {
      "image/png": "[encoded data removed]",
      "text/plain": [
       "<Figure size 432x288 with 1 Axes>"
      ]
     },
     "metadata": {
      "needs_background": "light"
     },
     "output_type": "display_data"
    }
   ],
   "source": [
    "# Plot for the next 'n=30' days\n",
    "import matplotlib.pyplot as plt\n",
    "plt.plot(svm_prediction)\n",
    "plt.suptitle('Model_Prediction', fontsize=20)  \n",
    "plt.xlabel('Number', fontsize=18)                     \n",
    "plt.ylabel('$ Close', fontsize=16)"
   ]
  },
  {
   "cell_type": "code",
   "execution_count": 223,
   "id": "f8124acf",
   "metadata": {},
   "outputs": [
    {
     "data": {
      "text/plain": [
       "Text(0, 0.5, '$ Price')"
      ]
     },
     "execution_count": 223,
     "metadata": {},
     "output_type": "execute_result"
    },
    {
     "data": {
      "image/png": "[encoded data removed]",
      "text/plain": [
       "<Figure size 1440x360 with 1 Axes>"
      ]
     },
     "metadata": {
      "needs_background": "light"
     },
     "output_type": "display_data"
    }
   ],
   "source": [
    "# Will Demonstate the Dates \n",
    "time1 =[]\n",
    "time3 =[]\n",
    "y = 3196\n",
    "for i in range(0,3196):\n",
    "    time1.append(i)\n",
    "    y-=1\n",
    "\n",
    "k = 30\n",
    "for j in range(3196,3226):\n",
    "    time3.append(j)\n",
    "    k-=1\n",
    "\n",
    "#Time-line Plots\n",
    "plt.figure(figsize = (20, 5))\n",
    "plt.plot(time1[0:3196], df3[\"CLOSE\"][::-1], color='goldenrod', lw=2)\n",
    "plt.plot(time3, svm_prediction, color='deeppink', lw=2)\n",
    "plt.title(\"SVR Result \", size=25)\n",
    "plt.xlabel(\"Time\", size=20)\n",
    "plt.ylabel(\"$ Price\", size=20)"
   ]
  }
 ],
 "metadata": {
  "kernelspec": {
   "display_name": "Python 3 (ipykernel)",
   "language": "python",
   "name": "python3"
  },
  "language_info": {
   "codemirror_mode": {
    "name": "ipython",
    "version": 3
   },
   "file_extension": ".py",
   "mimetype": "text/x-python",
   "name": "python",
   "nbconvert_exporter": "python",
   "pygments_lexer": "ipython3",
   "version": "3.9.7"
  }
 },
 "nbformat": 4,
 "nbformat_minor": 5
}

{
 "cells": [
  {
   "cell_type": "markdown",
   "id": "37fd9436",
   "metadata": {},
   "source": [
    "# Import Libraries"
   ]
  },
  {
   "cell_type": "code",
   "execution_count": 204,
   "id": "b1aafaf3",
   "metadata": {},
   "outputs": [],
   "source": [
    "# Python Structs Type using for Wide Variety Mathematical Operations Like Arrays\n",
    "import numpy as np \n",
    "\n",
    "# Working with the DataFrame\n",
    "import pandas as pd\n",
    "\n",
    "#Dealing With Warnings\n",
    "import warnings\n",
    "\n",
    "#from sklearn import preprocessing"
   ]
  },
  {
   "cell_type": "code",
   "execution_count": 205,
   "id": "39c131d7",
   "metadata": {},
   "outputs": [],
   "source": [
    "# Importing the Model_SVM libarys\n",
    "\n",
    "from sklearn.svm import SVR\n",
    "from sklearn import svm\n",
    "from sklearn.model_selection import GridSearchCV\n",
    "from sklearn.model_selection import train_test_split"
   ]
  },
  {
   "cell_type": "code",
   "execution_count": 206,
   "id": "8c7ba74f",
   "metadata": {},
   "outputs": [],
   "source": [
    "#Store the data into the variable df\n",
    "\n",
    "df = pd.read_csv('Bit_AfterClean.csv')\n",
    "\n",
    "#Do not show warnings\n",
    "warnings.filterwarnings(\"ignore\")"
   ]
  },
  {
   "cell_type": "markdown",
   "id": "aa88e8b2",
   "metadata": {},
   "source": [
    "# Prepring X,y"
   ]
  },
  {
   "cell_type": "code",
   "execution_count": 207,
   "id": "47ccf1db",
   "metadata": {},
   "outputs": [],
   "source": [
    "#A variable for predicting 'n' days out into the future\n",
    "prediction_days = 30 #n = 30 days\n",
    "\n",
    "#Create another column (the target or dependent variable)\n",
    "df['PREDICTION'] = df[['CLOSE']].shift(-prediction_days)"
   ]
  },
  {
   "cell_type": "code",
   "execution_count": 208,
   "id": "7f6d2095",
   "metadata": {},
   "outputs": [],
   "source": [
    "df3 = df.copy()"
   ]
  },
  {
   "cell_type": "code",
   "execution_count": 209,
   "id": "490466aa",
   "metadata": {},
   "outputs": [],
   "source": [
    "df = df.drop([\"CLOSE\"], axis =1)"
   ]
  },
  {
   "cell_type": "code",
   "execution_count": 210,
   "id": "82b08f58",
   "metadata": {},
   "outputs": [],
   "source": [
    "#CREATE THE INDEPENDENT DATA SET (X)\n",
    "\n",
    "# Convert the dataframe to a numpy array and drop the prediction column\n",
    "X = np.array(df.drop(['PREDICTION'],1))\n",
    "\n",
    "#Remove the last 'n' rows where 'n' is the prediction_days\n",
    "X= X[:len(df)-prediction_days]"
   ]
  },
  {
   "cell_type": "code",
   "execution_count": 211,
   "id": "722f1c0f",
   "metadata": {},
   "outputs": [],
   "source": [
    "#CREATE THE DEPENDENT DATA SET (y) \n",
    "# Convert the dataframe to a numpy array (All of the values including the NaN's) y = np.array(df['Prediction'])  \n",
    "# Get all of the y values except the last 'n' rows \n",
    "y = np.array(df['PREDICTION']) \n",
    "y = y[:-prediction_days] "
   ]
  },
  {
   "cell_type": "markdown",
   "id": "8ecf58da",
   "metadata": {},
   "source": [
    "# Best Parameters For SVM-Model"
   ]
  },
  {
   "cell_type": "code",
   "execution_count": 212,
   "id": "86043873",
   "metadata": {},
   "outputs": [],
   "source": [
    "# Split the data into 80% training and 20% testing\n",
    "x_train, x_test, y_train, y_test = train_test_split(X, y, test_size=0.2)\n",
    "\n",
    "# Set prediction_days_array equal to the last 30 rows of the original data set from the price column\n",
    "prediction_days_array = np.array(df.drop(['PREDICTION'],1))[:prediction_days]"
   ]
  },
  {
   "cell_type": "code",
   "execution_count": 214,
   "id": "3273cd6d",
   "metadata": {},
   "outputs": [
    {
     "name": "stdout",
     "output_type": "stream",
     "text": [
      "{'C': 10000, 'gamma': 1e-07}\n"
     ]
    }
   ],
   "source": [
    "# Best Params To SVR_Models\n",
    "Cs = [1000,10000]\n",
    "gammas = [1e-07,1e-06,1e-05]\n",
    "param_grid = {'gamma' : gammas, 'C': Cs}\n",
    "grid_search = GridSearchCV(svm.SVR(), param_grid, cv=5)\n",
    "grid_search.fit(X, y)\n",
    "grid_search.best_params_\n",
    "print(grid_search.best_params_)"
   ]
  },
  {
   "cell_type": "code",
   "execution_count": 215,
   "id": "0a07a6f3",
   "metadata": {},
   "outputs": [
    {
     "data": {
      "text/plain": [
       "SVR(C=10000, gamma=1e-07)"
      ]
     },
     "execution_count": 215,
     "metadata": {},
     "output_type": "execute_result"
    }
   ],
   "source": [
    "# Create and train the Support Vector Machine \n",
    "svr_rbf = SVR(C=10000, gamma= 1e-07)#Create the model\n",
    "svr_rbf.fit(x_train, y_train) #Train the model"
   ]
  },
  {
   "cell_type": "code",
   "execution_count": 216,
   "id": "6a4d2105",
   "metadata": {},
   "outputs": [
    {
     "name": "stdout",
     "output_type": "stream",
     "text": [
      "svr_rbf accuracy:  0.9179779413011668\n"
     ]
    }
   ],
   "source": [
    "# Testing Model: Score returns the accuracy of the prediction. \n",
    "# The best possible score is 1.0\n",
    "svr_rbf_confidence = svr_rbf.score(x_test, y_test)\n",
    "print(\"svr_rbf accuracy: \", svr_rbf_confidence)"
   ]
  },
  {
   "cell_type": "code",
   "execution_count": 217,
   "id": "2f020d02",
   "metadata": {},
   "outputs": [],
   "source": [
    "# Print the model predictions for the next 'n=30' days\n",
    "svm_prediction = svr_rbf.predict(prediction_days_array)"
   ]
  },
  {
   "cell_type": "markdown",
   "id": "405d575b",
   "metadata": {},
   "source": [
    "# Predict's Results"
   ]
  },
  {
   "cell_type": "code",
   "execution_count": 220,
   "id": "237e9fcc",
   "metadata": {},
   "outputs": [
    {
     "data": {
      "text/plain": [
       "array([43985.62108333, 53258.18818625, 57319.92203418, 56448.90103179,\n",
       "       54924.03779393, 40370.35622871, 41809.57058491, 47060.26166758,\n",
       "       34657.67431141, 42600.04936893, 36993.0846985 , 37617.236791  ,\n",
       "       45064.83837131, 46390.70214801, 45112.92256566, 45870.00628225,\n",
       "       46694.32440948, 46561.440876  , 51123.7051575 , 57903.69334693,\n",
       "       54781.55694061, 49387.25959307, 45475.79512167, 50475.94472099,\n",
       "       57658.14753191, 59892.20572993, 60172.15127982, 58510.12602982,\n",
       "       51791.55686202, 49502.05595381])"
      ]
     },
     "execution_count": 220,
     "metadata": {},
     "output_type": "execute_result"
    }
   ],
   "source": [
    "svm_prediction"
   ]
  },
  {
   "cell_type": "code",
   "execution_count": 219,
   "id": "4d8979dc",
   "metadata": {},
   "outputs": [
    {
     "data": {
      "text/plain": [
       "Text(0, 0.5, '$ Close')"
      ]
     },
     "execution_count": 219,
     "metadata": {},
     "output_type": "execute_result"
    },
    {
     "data": {
      "image/png": "[encoded data removed]",
      "text/plain": [
       "<Figure size 432x288 with 1 Axes>"
      ]
     },
     "metadata": {
      "needs_background": "light"
     },
     "output_type": "display_data"
    }
   ],
   "source": [
    "# Plot for the next 'n=30' days\n",
    "import matplotlib.pyplot as plt\n",
    "plt.plot(svm_prediction)\n",
    "plt.suptitle('Model_Prediction', fontsize=20)  \n",
    "plt.xlabel('Number', fontsize=18)                     \n",
    "plt.ylabel('$ Close', fontsize=16) "
   ]
  },
  {
   "cell_type": "code",
   "execution_count": 192,
   "id": "7449ad12",
   "metadata": {},
   "outputs": [
    {
     "data": {
      "text/plain": [
       "Text(0, 0.5, '$ Price')"
      ]
     },
     "execution_count": 192,
     "metadata": {},
     "output_type": "execute_result"
    },
    {
     "data": {
      "image/png": "[encoded data removed]",
      "text/plain": [
       "<Figure size 1440x360 with 1 Axes>"
      ]
     },
     "metadata": {
      "needs_background": "light"
     },
     "output_type": "display_data"
    }
   ],
   "source": [
    "# Will Demonstate the Dates \n",
    "time1 =[]\n",
    "time3 =[]\n",
    "y = 3196\n",
    "for i in range(0,3196):\n",
    "    time.append(i)\n",
    "    y-=1\n",
    "\n",
    "k = 30\n",
    "for j in range(3196,3226):\n",
    "    time3.append(j)\n",
    "    k-=1\n",
    "\n",
    "#Time-line Plots\n",
    "plt.figure(figsize = (20, 5))\n",
    "plt.plot(time[0:3196], df3[\"CLOSE\"][::-1], color='goldenrod', lw=2)\n",
    "plt.plot(time3, svm_prediction, color='deeppink', lw=2)\n",
    "plt.title(\"Bitcoin Price over time\", size=25)\n",
    "plt.xlabel(\"Time\", size=20)\n",
    "plt.ylabel(\"$ Price\", size=20)"
   ]
  },
  {
   "cell_type": "code",
   "execution_count": null,
   "id": "0bd55d44",
   "metadata": {},
   "outputs": [],
   "source": [
    " "
   ]
  }
 ],
 "metadata": {
  "kernelspec": {
   "display_name": "Python 3 (ipykernel)",
   "language": "python",
   "name": "python3"
  },
  "language_info": {
   "codemirror_mode": {
    "name": "ipython",
    "version": 3
   },
   "file_extension": ".py",
   "mimetype": "text/x-python",
   "name": "python",
   "nbconvert_exporter": "python",
   "pygments_lexer": "ipython3",
   "version": "3.9.7"
  }
 },
 "nbformat": 4,
 "nbformat_minor": 5
}

{
 "cells": [
  {
   "cell_type": "markdown",
   "id": "002b7e43",
   "metadata": {},
   "source": [
    "# Import Libraries"
   ]
  },
  {
   "cell_type": "code",
   "execution_count": 1,
   "id": "b0b20b29",
   "metadata": {},
   "outputs": [],
   "source": [
    "# Python Structs Type using for Wide Variety Mathematical Operations Like Arrays\n",
    "import numpy as np \n",
    "\n",
    "# Working with the DataFrame\n",
    "import pandas as pd\n",
    "\n",
    "#Dealing With Warnings\n",
    "import warnings\n",
    "\n",
    "#from sklearn import preprocessing"
   ]
  },
  {
   "cell_type": "code",
   "execution_count": null,
   "id": "44e5a4cd",
   "metadata": {},
   "outputs": [],
   "source": [
    "# Importing the Model_SVM libarys\n",
    "\n",
    "from sklearn.svm import SVR\n",
    "from sklearn.model_selection import GridSearchCV\n",
    "from sklearn.model_selection import train_test_split"
   ]
  },
  {
   "cell_type": "code",
   "execution_count": 2,
   "id": "9b2f9630",
   "metadata": {},
   "outputs": [],
   "source": [
    "#Store the data into the variable df\n",
    "\n",
    "df = pd.read_csv('Bit_AfterClean.csv')\n",
    "\n",
    "#Do not show warnings\n",
    "warnings.filterwarnings(\"ignore\")"
   ]
  },
  {
   "cell_type": "code",
   "execution_count": 3,
   "id": "eb360ef7",
   "metadata": {},
   "outputs": [],
   "source": [
    "#A variable for predicting 'n' days out into the future\n",
    "prediction_days = 30 #n = 30 days\n",
    "\n",
    "#Create another column (the target or dependent variable)\n",
    "df['PREDICTION'] = df[['CLOSE']].shift(-prediction_days)"
   ]
  },
  {
   "cell_type": "code",
   "execution_count": 4,
   "id": "ad260c4f",
   "metadata": {},
   "outputs": [],
   "source": [
    "df.drop(['Unnamed: 0'], 1, inplace=True)"
   ]
  },
  {
   "cell_type": "code",
   "execution_count": 5,
   "id": "dcdd4da3",
   "metadata": {},
   "outputs": [],
   "source": [
    "df = df.drop([\"CLOSE\",\"TRENDS MEAN\",\"UP|DOWN\", \"POSITVE ANALZE TWEETS\",\"NEGATIVE ANALZE TWEETS\",\"CHANGE\"], axis =1)"
   ]
  },
  {
   "cell_type": "code",
   "execution_count": 6,
   "id": "af1274ff",
   "metadata": {},
   "outputs": [],
   "source": [
    "#CREATE THE INDEPENDENT DATA SET (X)\n",
    "\n",
    "# Convert the dataframe to a numpy array and drop the prediction column\n",
    "X = np.array(df.drop(['PREDICTION'],1))\n",
    "\n",
    "#Remove the last 'n' rows where 'n' is the prediction_days\n",
    "X= X[:len(df)-prediction_days]"
   ]
  },
  {
   "cell_type": "code",
   "execution_count": 7,
   "id": "824cf939",
   "metadata": {},
   "outputs": [
    {
     "data": {
      "text/html": [
       "<div>\n",
       "<style scoped>\n",
       "    .dataframe tbody tr th:only-of-type {\n",
       "        vertical-align: middle;\n",
       "    }\n",
       "\n",
       "    .dataframe tbody tr th {\n",
       "        vertical-align: top;\n",
       "    }\n",
       "\n",
       "    .dataframe thead th {\n",
       "        text-align: right;\n",
       "    }\n",
       "</style>\n",
       "<table border=\"1\" class=\"dataframe\">\n",
       "  <thead>\n",
       "    <tr style=\"text-align: right;\">\n",
       "      <th></th>\n",
       "      <th>OPEN</th>\n",
       "      <th>HIGH</th>\n",
       "      <th>LOW</th>\n",
       "      <th>MEAN HIGH-LOW</th>\n",
       "      <th>MEAN CLOSE-OPEN</th>\n",
       "      <th>PREDICTION</th>\n",
       "    </tr>\n",
       "  </thead>\n",
       "  <tbody>\n",
       "    <tr>\n",
       "      <th>0</th>\n",
       "      <td>47666.0</td>\n",
       "      <td>48264.0</td>\n",
       "      <td>46982.0</td>\n",
       "      <td>47623.0</td>\n",
       "      <td>47781.0</td>\n",
       "      <td>59071.0</td>\n",
       "    </tr>\n",
       "    <tr>\n",
       "      <th>1</th>\n",
       "      <td>51041.0</td>\n",
       "      <td>52191.0</td>\n",
       "      <td>50846.0</td>\n",
       "      <td>51518.5</td>\n",
       "      <td>51035.0</td>\n",
       "      <td>57099.0</td>\n",
       "    </tr>\n",
       "    <tr>\n",
       "      <th>2</th>\n",
       "      <td>50770.0</td>\n",
       "      <td>51407.0</td>\n",
       "      <td>50016.0</td>\n",
       "      <td>50711.5</td>\n",
       "      <td>50904.0</td>\n",
       "      <td>57937.0</td>\n",
       "    </tr>\n",
       "    <tr>\n",
       "      <th>3</th>\n",
       "      <td>51249.0</td>\n",
       "      <td>51437.0</td>\n",
       "      <td>50751.0</td>\n",
       "      <td>51094.0</td>\n",
       "      <td>51012.0</td>\n",
       "      <td>56449.0</td>\n",
       "    </tr>\n",
       "    <tr>\n",
       "      <th>4</th>\n",
       "      <td>50907.0</td>\n",
       "      <td>51795.0</td>\n",
       "      <td>50747.0</td>\n",
       "      <td>51271.0</td>\n",
       "      <td>50971.5</td>\n",
       "      <td>58792.0</td>\n",
       "    </tr>\n",
       "    <tr>\n",
       "      <th>...</th>\n",
       "      <td>...</td>\n",
       "      <td>...</td>\n",
       "      <td>...</td>\n",
       "      <td>...</td>\n",
       "      <td>...</td>\n",
       "      <td>...</td>\n",
       "    </tr>\n",
       "    <tr>\n",
       "      <th>3191</th>\n",
       "      <td>10.0</td>\n",
       "      <td>10.0</td>\n",
       "      <td>10.0</td>\n",
       "      <td>10.0</td>\n",
       "      <td>10.0</td>\n",
       "      <td>NaN</td>\n",
       "    </tr>\n",
       "    <tr>\n",
       "      <th>3192</th>\n",
       "      <td>11.7</td>\n",
       "      <td>11.7</td>\n",
       "      <td>11.7</td>\n",
       "      <td>11.0</td>\n",
       "      <td>11.0</td>\n",
       "      <td>NaN</td>\n",
       "    </tr>\n",
       "    <tr>\n",
       "      <th>3193</th>\n",
       "      <td>11.7</td>\n",
       "      <td>11.7</td>\n",
       "      <td>11.7</td>\n",
       "      <td>11.0</td>\n",
       "      <td>11.0</td>\n",
       "      <td>NaN</td>\n",
       "    </tr>\n",
       "    <tr>\n",
       "      <th>3194</th>\n",
       "      <td>11.7</td>\n",
       "      <td>11.7</td>\n",
       "      <td>11.7</td>\n",
       "      <td>11.0</td>\n",
       "      <td>11.0</td>\n",
       "      <td>NaN</td>\n",
       "    </tr>\n",
       "    <tr>\n",
       "      <th>3195</th>\n",
       "      <td>10.9</td>\n",
       "      <td>10.9</td>\n",
       "      <td>10.9</td>\n",
       "      <td>10.0</td>\n",
       "      <td>10.0</td>\n",
       "      <td>NaN</td>\n",
       "    </tr>\n",
       "  </tbody>\n",
       "</table>\n",
       "<p>3196 rows × 6 columns</p>\n",
       "</div>"
      ],
      "text/plain": [
       "         OPEN     HIGH      LOW  MEAN HIGH-LOW  MEAN CLOSE-OPEN  PREDICTION\n",
       "0     47666.0  48264.0  46982.0        47623.0          47781.0     59071.0\n",
       "1     51041.0  52191.0  50846.0        51518.5          51035.0     57099.0\n",
       "2     50770.0  51407.0  50016.0        50711.5          50904.0     57937.0\n",
       "3     51249.0  51437.0  50751.0        51094.0          51012.0     56449.0\n",
       "4     50907.0  51795.0  50747.0        51271.0          50971.5     58792.0\n",
       "...       ...      ...      ...            ...              ...         ...\n",
       "3191     10.0     10.0     10.0           10.0             10.0         NaN\n",
       "3192     11.7     11.7     11.7           11.0             11.0         NaN\n",
       "3193     11.7     11.7     11.7           11.0             11.0         NaN\n",
       "3194     11.7     11.7     11.7           11.0             11.0         NaN\n",
       "3195     10.9     10.9     10.9           10.0             10.0         NaN\n",
       "\n",
       "[3196 rows x 6 columns]"
      ]
     },
     "execution_count": 7,
     "metadata": {},
     "output_type": "execute_result"
    }
   ],
   "source": [
    "df"
   ]
  },
  {
   "cell_type": "code",
   "execution_count": 8,
   "id": "0a032a1a",
   "metadata": {},
   "outputs": [],
   "source": [
    "#CREATE THE DEPENDENT DATA SET (y) \n",
    "# Convert the dataframe to a numpy array (All of the values including the NaN's) y = np.array(df['Prediction'])  \n",
    "# Get all of the y values except the last 'n' rows \n",
    "y = np.array(df['PREDICTION']) \n",
    "y = y[:-prediction_days] "
   ]
  },
  {
   "cell_type": "markdown",
   "id": "c037f8ec",
   "metadata": {},
   "source": [
    "# Prepring X,y"
   ]
  },
  {
   "cell_type": "code",
   "execution_count": 9,
   "id": "c7643186",
   "metadata": {},
   "outputs": [],
   "source": [
    "# Split the data into 80% training and 20% testing\n",
    "x_train, x_test, y_train, y_test = train_test_split(X, y, test_size=0.2)\n",
    "\n",
    "# Set prediction_days_array equal to the last 30 rows of the original data set from the price column\n",
    "prediction_days_array = np.array(df.drop(['PREDICTION'],1))[:prediction_days]"
   ]
  },
  {
   "cell_type": "markdown",
   "id": "f1cc0ff4",
   "metadata": {},
   "source": [
    "# Creating and train the Support Vector Models "
   ]
  },
  {
   "cell_type": "code",
   "execution_count": 19,
   "id": "869f10bf",
   "metadata": {},
   "outputs": [
    {
     "name": "stdout",
     "output_type": "stream",
     "text": [
      "{'C': 10000, 'gamma': 1e-07}\n"
     ]
    }
   ],
   "source": [
    "# Best Params To SVR_Models\n",
    "Cs = [100,1000,10000]\n",
    "gammas = [1e-07,1e-06,1e-05]\n",
    "param_grid = {'gamma' : gammas, 'C': Cs}\n",
    "grid_search = GridSearchCV(svm.SVR(), param_grid, cv=5)\n",
    "grid_search.fit(X, y)\n",
    "grid_search.best_params_\n",
    "print(grid_search.best_params_)"
   ]
  },
  {
   "cell_type": "code",
   "execution_count": 20,
   "id": "851e9945",
   "metadata": {},
   "outputs": [
    {
     "data": {
      "text/plain": [
       "SVR(C=10000, gamma=1e-07)"
      ]
     },
     "execution_count": 20,
     "metadata": {},
     "output_type": "execute_result"
    }
   ],
   "source": [
    "# Create and train the Support Vector Machine \n",
    "svr_rbf = SVR(C=10000, gamma= 1e-07)#Create the model\n",
    "svr_rbf.fit(x_train, y_train) #Train the model"
   ]
  },
  {
   "cell_type": "markdown",
   "id": "08e8e569",
   "metadata": {},
   "source": [
    "# Predict's Results"
   ]
  },
  {
   "cell_type": "code",
   "execution_count": 21,
   "id": "24db4be4",
   "metadata": {},
   "outputs": [
    {
     "name": "stdout",
     "output_type": "stream",
     "text": [
      "svr_rbf accuracy:  0.9124457304261413\n"
     ]
    }
   ],
   "source": [
    "# Testing Model: Score returns the accuracy of the prediction. \n",
    "# The best possible score is 1.0\n",
    "svr_rbf_confidence = svr_rbf.score(x_test, y_test)\n",
    "print(\"svr_rbf accuracy: \", svr_rbf_confidence)"
   ]
  },
  {
   "cell_type": "code",
   "execution_count": 22,
   "id": "e3ca4aed",
   "metadata": {
    "scrolled": true
   },
   "outputs": [],
   "source": [
    "# Print the model predictions for the next 'n=30' days\n",
    "svm_prediction = svr_rbf.predict(prediction_days_array)"
   ]
  },
  {
   "cell_type": "code",
   "execution_count": 23,
   "id": "fe7f1035",
   "metadata": {},
   "outputs": [
    {
     "data": {
      "text/plain": [
       "array([44417.47658603, 48594.87627391, 51090.03804484, 50980.65556624,\n",
       "       49465.02460304, 37744.87125123, 38362.08266744, 43389.13468185,\n",
       "       34749.72843355, 43191.14218102, 37942.54746604, 40137.22756529,\n",
       "       40726.02283178, 41648.22770925, 43645.1006054 , 41627.36786412,\n",
       "       42100.58312384, 41784.45299255, 43188.49409778, 51613.37738308,\n",
       "       48766.46084244, 44470.2053064 , 40775.43827314, 43064.96766241,\n",
       "       57801.6963753 , 58993.54094698, 57497.42787836, 57144.55504165,\n",
       "       48736.58176271, 49916.64977694])"
      ]
     },
     "execution_count": 23,
     "metadata": {},
     "output_type": "execute_result"
    }
   ],
   "source": [
    "svm_prediction"
   ]
  },
  {
   "cell_type": "code",
   "execution_count": 24,
   "id": "8386c470",
   "metadata": {},
   "outputs": [
    {
     "data": {
      "text/plain": [
       "Text(0, 0.5, '$ Close')"
      ]
     },
     "execution_count": 24,
     "metadata": {},
     "output_type": "execute_result"
    },
    {
     "data": {
      "image/png": "[encoded data removed]",
      "text/plain": [
       "<Figure size 432x288 with 1 Axes>"
      ]
     },
     "metadata": {
      "needs_background": "light"
     },
     "output_type": "display_data"
    }
   ],
   "source": [
    "# Plot for the next 'n=30' days\n",
    "import matplotlib.pyplot as plt\n",
    "plt.plot(svm_prediction)\n",
    "plt.suptitle('Model_Prediction', fontsize=20)  \n",
    "plt.xlabel('Number', fontsize=18)                     \n",
    "plt.ylabel('$ Close', fontsize=16)   "
   ]
  },
  {
   "cell_type": "code",
   "execution_count": null,
   "id": "f8124acf",
   "metadata": {},
   "outputs": [],
   "source": []
  }
 ],
 "metadata": {
  "kernelspec": {
   "display_name": "Python 3 (ipykernel)",
   "language": "python",
   "name": "python3"
  },
  "language_info": {
   "codemirror_mode": {
    "name": "ipython",
    "version": 3
   },
   "file_extension": ".py",
   "mimetype": "text/x-python",
   "name": "python",
   "nbconvert_exporter": "python",
   "pygments_lexer": "ipython3",
   "version": "3.9.7"
  }
 },
 "nbformat": 4,
 "nbformat_minor": 5
}

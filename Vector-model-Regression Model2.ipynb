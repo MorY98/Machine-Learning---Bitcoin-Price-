{
 "cells": [
  {
   "cell_type": "markdown",
   "id": "002b7e43",
   "metadata": {},
   "source": [
    "# Import Libraries"
   ]
  },
  {
   "cell_type": "code",
   "execution_count": 114,
   "id": "b0b20b29",
   "metadata": {},
   "outputs": [],
   "source": [
    "# Python Structs Type using for Wide Variety Mathematical Operations Like Arrays\n",
    "import numpy as np \n",
    "\n",
    "# Working with the DataFrame\n",
    "import pandas as pd\n",
    "\n",
    "#Dealing With Warnings\n",
    "import warnings"
   ]
  },
  {
   "cell_type": "code",
   "execution_count": 115,
   "id": "44e5a4cd",
   "metadata": {},
   "outputs": [],
   "source": [
    "# Importing the Model_SVM libarys\n",
    "\n",
    "from sklearn.svm import SVR\n",
    "from sklearn import svm\n",
    "from sklearn.model_selection import GridSearchCV\n",
    "from sklearn.model_selection import train_test_split"
   ]
  },
  {
   "cell_type": "code",
   "execution_count": 116,
   "id": "9b2f9630",
   "metadata": {},
   "outputs": [],
   "source": [
    "#Store the data into the variable df\n",
    "df = pd.read_csv('Bit_AfterClean.csv')\n",
    "#Do not show warnings\n",
    "warnings.filterwarnings(\"ignore\")"
   ]
  },
  {
   "cell_type": "code",
   "execution_count": 117,
   "id": "c44cc0f4",
   "metadata": {},
   "outputs": [],
   "source": [
    "df3 = df.copy()"
   ]
  },
  {
   "cell_type": "code",
   "execution_count": 118,
   "id": "eb360ef7",
   "metadata": {},
   "outputs": [],
   "source": [
    "#A variable for predicting 'n' days out into the future\n",
    "prediction_days = 30 #n = 30 days\n",
    "\n",
    "#Create another column (the target or dependent variable)\n",
    "df['PREDICTION'] = df[['CLOSE']].shift(-prediction_days)"
   ]
  },
  {
   "cell_type": "code",
   "execution_count": 119,
   "id": "ad260c4f",
   "metadata": {},
   "outputs": [],
   "source": [
    "df = df.drop(['Unnamed: 0'], axis=1)\n",
    "df = df.drop([\"CLOSE\"], axis=1)"
   ]
  },
  {
   "cell_type": "code",
   "execution_count": 120,
   "id": "af1274ff",
   "metadata": {},
   "outputs": [],
   "source": [
    "#CREATE THE INDEPENDENT DATA SET (X)\n",
    "\n",
    "# Convert the dataframe to a numpy array and drop the prediction column\n",
    "X = np.array(df.drop(['PREDICTION'],1))\n",
    "\n",
    "#Remove the last 'n' rows where 'n' is the prediction_days\n",
    "X= X[:len(df)-prediction_days]"
   ]
  },
  {
   "cell_type": "code",
   "execution_count": 121,
   "id": "0a032a1a",
   "metadata": {},
   "outputs": [],
   "source": [
    "#CREATE THE DEPENDENT DATA SET (y) \n",
    "# Convert the dataframe to a numpy array (All of the values including the NaN's) y = np.array(df['Prediction'])  \n",
    "# Get all of the y values except the last 'n' rows \n",
    "y = np.array(df['PREDICTION']) \n",
    "y = y[:-prediction_days] "
   ]
  },
  {
   "cell_type": "markdown",
   "id": "c037f8ec",
   "metadata": {},
   "source": [
    "# Prepring X,y"
   ]
  },
  {
   "cell_type": "code",
   "execution_count": 122,
   "id": "c7643186",
   "metadata": {},
   "outputs": [],
   "source": [
    "# Split the data into 80% training and 20% testing\n",
    "x_train, x_test, y_train, y_test = train_test_split(X, y, test_size=0.2)\n",
    "\n",
    "# Set prediction_days_array equal to the last 30 rows of the original data set from the price column\n",
    "prediction_days_array = np.array(df.drop(['PREDICTION'],1))[:prediction_days]"
   ]
  },
  {
   "cell_type": "markdown",
   "id": "f1cc0ff4",
   "metadata": {},
   "source": [
    "# Creating and train the Support Vector Models "
   ]
  },
  {
   "cell_type": "code",
   "execution_count": 123,
   "id": "869f10bf",
   "metadata": {},
   "outputs": [
    {
     "name": "stdout",
     "output_type": "stream",
     "text": [
      "{'C': 1000, 'epsilon': 0.1}\n"
     ]
    }
   ],
   "source": [
    "# Best Params To SVR_Models\n",
    "E = [0.1,0.01,0.001,0.0001]\n",
    "Cs = [10, 100, 1000, 10000]\n",
    "param_grid = {'epsilon' : E, 'C': Cs}\n",
    "grid_search = GridSearchCV(svm.SVR(), param_grid, cv=5)\n",
    "grid_search.fit(X, y)\n",
    "grid_search.best_params_\n",
    "print(grid_search.best_params_)"
   ]
  },
  {
   "cell_type": "code",
   "execution_count": 127,
   "id": "851e9945",
   "metadata": {},
   "outputs": [
    {
     "data": {
      "text/plain": [
       "SVR(C=1000)"
      ]
     },
     "execution_count": 127,
     "metadata": {},
     "output_type": "execute_result"
    }
   ],
   "source": [
    "# Create and train the Support Vector Machine \n",
    "svr_rbf = SVR(epsilon=0.1, C=1000)#Create the model\n",
    "svr_rbf.fit(x_train, y_train) #Train the model"
   ]
  },
  {
   "cell_type": "markdown",
   "id": "08e8e569",
   "metadata": {},
   "source": [
    "# Predict's Results"
   ]
  },
  {
   "cell_type": "code",
   "execution_count": 128,
   "id": "24db4be4",
   "metadata": {},
   "outputs": [
    {
     "name": "stdout",
     "output_type": "stream",
     "text": [
      "svr_rbf accuracy:  0.9330397948765241\n"
     ]
    }
   ],
   "source": [
    "# Testing Model: Score returns the accuracy of the prediction. \n",
    "# The best possible score is 1.0\n",
    "svr_rbf_confidence = svr_rbf.score(x_test, y_test)\n",
    "print(\"svr_rbf accuracy: \", svr_rbf_confidence)"
   ]
  },
  {
   "cell_type": "code",
   "execution_count": 129,
   "id": "e3ca4aed",
   "metadata": {
    "scrolled": true
   },
   "outputs": [],
   "source": [
    "# Print the model predictions for the next 'n=30' days\n",
    "svm_prediction = svr_rbf.predict(prediction_days_array)"
   ]
  },
  {
   "cell_type": "code",
   "execution_count": 130,
   "id": "fe7f1035",
   "metadata": {},
   "outputs": [
    {
     "data": {
      "text/plain": [
       "array([44497.36895346, 47061.00260319, 46710.12518619, 46936.10647875,\n",
       "       46945.79995827, 45840.74667256, 45573.37888203, 44632.96575625,\n",
       "       43502.86066015, 44200.50584644, 43648.77180347, 44140.35340654,\n",
       "       45183.37710336, 45038.90171621, 44369.73914161, 46053.34644107,\n",
       "       44861.41852219, 44826.52851985, 45774.64613961, 46474.65290764,\n",
       "       46792.64763656, 45902.14145872, 45645.87309945, 48788.33651208,\n",
       "       49268.65757783, 49275.21792928, 49290.1623138 , 49283.72844191,\n",
       "       48961.6673327 , 48668.48306215])"
      ]
     },
     "execution_count": 130,
     "metadata": {},
     "output_type": "execute_result"
    }
   ],
   "source": [
    "svm_prediction"
   ]
  },
  {
   "cell_type": "code",
   "execution_count": 131,
   "id": "8386c470",
   "metadata": {},
   "outputs": [
    {
     "data": {
      "text/plain": [
       "Text(0, 0.5, '$ Close')"
      ]
     },
     "execution_count": 131,
     "metadata": {},
     "output_type": "execute_result"
    },
    {
     "data": {
      "image/png": "[encoded data removed]",
      "text/plain": [
       "<Figure size 432x288 with 1 Axes>"
      ]
     },
     "metadata": {
      "needs_background": "light"
     },
     "output_type": "display_data"
    }
   ],
   "source": [
    "# Plot for the next 'n=30' days\n",
    "import matplotlib.pyplot as plt\n",
    "plt.plot(svm_prediction)\n",
    "plt.suptitle('Model_Prediction', fontsize=20)  \n",
    "plt.xlabel('Number', fontsize=18)                     \n",
    "plt.ylabel('$ Close', fontsize=16)"
   ]
  },
  {
   "cell_type": "code",
   "execution_count": 136,
   "id": "f8124acf",
   "metadata": {},
   "outputs": [
    {
     "data": {
      "text/plain": [
       "Text(0, 0.5, '$ Price')"
      ]
     },
     "execution_count": 136,
     "metadata": {},
     "output_type": "execute_result"
    },
    {
     "data": {
      "image/png": "[encoded data removed]",
      "text/plain": [
       "<Figure size 720x360 with 1 Axes>"
      ]
     },
     "metadata": {
      "needs_background": "light"
     },
     "output_type": "display_data"
    }
   ],
   "source": [
    "# Will Demonstate the Dates \n",
    "time1 =[]\n",
    "time3 =[]\n",
    "y = 3196\n",
    "for i in range(0,3196):\n",
    "    time1.append(i)\n",
    "    y-=1\n",
    "\n",
    "k = 30\n",
    "for j in range(3196,3226):\n",
    "    time3.append(j)\n",
    "    k-=1\n",
    "\n",
    "#Time-line Plots\n",
    "plt.figure(figsize = (10, 5))\n",
    "plt.plot(time1[0:3196], df3[\"CLOSE\"][::-1], color='goldenrod', lw=2)\n",
    "plt.plot(time3, svm_prediction, color='deeppink', lw=2)\n",
    "plt.title(\"SVR Result \", size=25)\n",
    "plt.xlabel(\"Time\", size=20)\n",
    "plt.ylabel(\"$ Price\", size=20)"
   ]
  }
 ],
 "metadata": {
  "kernelspec": {
   "display_name": "Python 3 (ipykernel)",
   "language": "python",
   "name": "python3"
  },
  "language_info": {
   "codemirror_mode": {
    "name": "ipython",
    "version": 3
   },
   "file_extension": ".py",
   "mimetype": "text/x-python",
   "name": "python",
   "nbconvert_exporter": "python",
   "pygments_lexer": "ipython3",
   "version": "3.9.7"
  }
 },
 "nbformat": 4,
 "nbformat_minor": 5
}

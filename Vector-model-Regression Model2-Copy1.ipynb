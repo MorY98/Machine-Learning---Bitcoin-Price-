{
 "cells": [
  {
   "cell_type": "markdown",
   "id": "002b7e43",
   "metadata": {},
   "source": [
    "# Import Libraries"
   ]
  },
  {
   "cell_type": "code",
   "execution_count": 104,
   "id": "b0b20b29",
   "metadata": {},
   "outputs": [],
   "source": [
    "# Python Structs Type using for Wide Variety Mathematical Operations Like Arrays\n",
    "import numpy as np \n",
    "\n",
    "# Working with the DataFrame\n",
    "import pandas as pd\n",
    "\n",
    "#Dealing With Warnings\n",
    "import warnings\n",
    "\n",
    "#from sklearn import preprocessing"
   ]
  },
  {
   "cell_type": "code",
   "execution_count": 105,
   "id": "44e5a4cd",
   "metadata": {},
   "outputs": [],
   "source": [
    "# Importing the Model_SVM libarys\n",
    "\n",
    "from sklearn.svm import SVR\n",
    "from sklearn.model_selection import GridSearchCV\n",
    "from sklearn.model_selection import train_test_split"
   ]
  },
  {
   "cell_type": "code",
   "execution_count": 106,
   "id": "9b2f9630",
   "metadata": {},
   "outputs": [],
   "source": [
    "#Store the data into the variable df\n",
    "\n",
    "df = pd.read_csv('Bit_AfterClean.csv')\n",
    "\n",
    "#Do not show warnings\n",
    "warnings.filterwarnings(\"ignore\")"
   ]
  },
  {
   "cell_type": "code",
   "execution_count": 107,
   "id": "eb360ef7",
   "metadata": {},
   "outputs": [],
   "source": [
    "#A variable for predicting 'n' days out into the future\n",
    "prediction_days = 30 #n = 30 days\n",
    "\n",
    "#Create another column (the target or dependent variable)\n",
    "df['PREDICTION'] = df[['CLOSE']].shift(-prediction_days)"
   ]
  },
  {
   "cell_type": "code",
   "execution_count": 108,
   "id": "ad260c4f",
   "metadata": {},
   "outputs": [],
   "source": [
    "df.drop(['Unnamed: 0'], 1, inplace=True)"
   ]
  },
  {
   "cell_type": "code",
   "execution_count": 109,
   "id": "211d1ce5",
   "metadata": {},
   "outputs": [],
   "source": [
    "df3 = df.copy()"
   ]
  },
  {
   "cell_type": "code",
   "execution_count": 110,
   "id": "dcdd4da3",
   "metadata": {},
   "outputs": [],
   "source": [
    "df = df.drop([\"CLOSE\"], axis =1)"
   ]
  },
  {
   "cell_type": "code",
   "execution_count": 111,
   "id": "af1274ff",
   "metadata": {},
   "outputs": [],
   "source": [
    "#CREATE THE INDEPENDENT DATA SET (X)\n",
    "\n",
    "# Convert the dataframe to a numpy array and drop the prediction column\n",
    "X = np.array(df.drop(['PREDICTION'],1))\n",
    "\n",
    "#Remove the last 'n' rows where 'n' is the prediction_days\n",
    "X= X[:len(df)-prediction_days]"
   ]
  },
  {
   "cell_type": "code",
   "execution_count": 112,
   "id": "0a032a1a",
   "metadata": {},
   "outputs": [],
   "source": [
    "#CREATE THE DEPENDENT DATA SET (y) \n",
    "# Convert the dataframe to a numpy array (All of the values including the NaN's) y = np.array(df['Prediction'])  \n",
    "# Get all of the y values except the last 'n' rows \n",
    "y = np.array(df['PREDICTION']) \n",
    "y = y[:-prediction_days] "
   ]
  },
  {
   "cell_type": "markdown",
   "id": "c037f8ec",
   "metadata": {},
   "source": [
    "# Prepring X,y"
   ]
  },
  {
   "cell_type": "code",
   "execution_count": 113,
   "id": "c7643186",
   "metadata": {},
   "outputs": [],
   "source": [
    "# Split the data into 80% training and 20% testing\n",
    "x_train, x_test, y_train, y_test = train_test_split(X, y, test_size=0.2)\n",
    "\n",
    "# Set prediction_days_array equal to the last 30 rows of the original data set from the price column\n",
    "prediction_days_array = np.array(df.drop(['PREDICTION'],1))[:prediction_days]"
   ]
  },
  {
   "cell_type": "markdown",
   "id": "f1cc0ff4",
   "metadata": {},
   "source": [
    "# Creating and train the Support Vector Models "
   ]
  },
  {
   "cell_type": "code",
   "execution_count": 114,
   "id": "869f10bf",
   "metadata": {},
   "outputs": [
    {
     "name": "stdout",
     "output_type": "stream",
     "text": [
      "{'C': 10000, 'gamma': 1e-07}\n"
     ]
    }
   ],
   "source": [
    "# Best Params To SVR_Models\n",
    "from sklearn import svm, datasets\n",
    "from sklearn.model_selection import GridSearchCV\n",
    "Cs = [100,1000,10000]\n",
    "gammas = [1e-07,1e-06,1e-05]\n",
    "param_grid = {'gamma' : gammas, 'C': Cs}\n",
    "grid_search = GridSearchCV(svm.SVR(), param_grid, cv=5)\n",
    "grid_search.fit(X, y)\n",
    "grid_search.best_params_\n",
    "print(grid_search.best_params_)"
   ]
  },
  {
   "cell_type": "code",
   "execution_count": 115,
   "id": "851e9945",
   "metadata": {},
   "outputs": [
    {
     "data": {
      "text/plain": [
       "SVR(C=10000, gamma=1e-07)"
      ]
     },
     "execution_count": 115,
     "metadata": {},
     "output_type": "execute_result"
    }
   ],
   "source": [
    "# Create and train the Support Vector Machine \n",
    "svr_rbf = SVR(C=10000, gamma= 1e-07)#Create the model\n",
    "svr_rbf.fit(x_train, y_train) #Train the model"
   ]
  },
  {
   "cell_type": "markdown",
   "id": "08e8e569",
   "metadata": {},
   "source": [
    "# Predict's Results"
   ]
  },
  {
   "cell_type": "code",
   "execution_count": 116,
   "id": "24db4be4",
   "metadata": {},
   "outputs": [
    {
     "name": "stdout",
     "output_type": "stream",
     "text": [
      "svr_rbf accuracy:  0.9012192432612607\n"
     ]
    }
   ],
   "source": [
    "# Testing Model: Score returns the accuracy of the prediction. \n",
    "# The best possible score is 1.0\n",
    "svr_rbf_confidence = svr_rbf.score(x_test, y_test)\n",
    "print(\"svr_rbf accuracy: \", svr_rbf_confidence)"
   ]
  },
  {
   "cell_type": "code",
   "execution_count": 117,
   "id": "e3ca4aed",
   "metadata": {
    "scrolled": true
   },
   "outputs": [],
   "source": [
    "# Print the model predictions for the next 'n=30' days\n",
    "svm_prediction = svr_rbf.predict(prediction_days_array)"
   ]
  },
  {
   "cell_type": "code",
   "execution_count": 118,
   "id": "fe7f1035",
   "metadata": {},
   "outputs": [
    {
     "data": {
      "text/plain": [
       "array([43558.08650225, 56109.11189712, 56144.66688398, 56448.89981849,\n",
       "       56237.16606011, 37349.16396395, 39078.67156853, 41494.68535556,\n",
       "       33422.64940772, 39458.07088385, 34993.92495428, 36443.4337987 ,\n",
       "       42901.60941517, 42640.71341146, 40662.61915931, 41692.01587346,\n",
       "       41287.65648921, 39531.97686739, 44317.43679305, 54440.94821859,\n",
       "       54815.36048683, 45281.68581972, 41679.5336148 , 41606.79485877,\n",
       "       58808.61577813, 58519.95758024, 57031.11703655, 56176.29804541,\n",
       "       46098.32134972, 51196.2604324 ])"
      ]
     },
     "execution_count": 118,
     "metadata": {},
     "output_type": "execute_result"
    }
   ],
   "source": [
    "svm_prediction"
   ]
  },
  {
   "cell_type": "code",
   "execution_count": 119,
   "id": "8386c470",
   "metadata": {},
   "outputs": [
    {
     "data": {
      "text/plain": [
       "Text(0, 0.5, '$ Close')"
      ]
     },
     "execution_count": 119,
     "metadata": {},
     "output_type": "execute_result"
    },
    {
     "data": {
      "image/png": "[encoded data removed]",
      "text/plain": [
       "<Figure size 432x288 with 1 Axes>"
      ]
     },
     "metadata": {
      "needs_background": "light"
     },
     "output_type": "display_data"
    }
   ],
   "source": [
    "# Plot for the next 'n=30' days\n",
    "import matplotlib.pyplot as plt\n",
    "plt.plot(svm_prediction)\n",
    "plt.suptitle('Model_Prediction', fontsize=20)  \n",
    "plt.xlabel('Number', fontsize=18)                     \n",
    "plt.ylabel('$ Close', fontsize=16)   "
   ]
  },
  {
   "cell_type": "code",
   "execution_count": 120,
   "id": "f8124acf",
   "metadata": {},
   "outputs": [
    {
     "data": {
      "text/plain": [
       "Text(0, 0.5, '$ Price')"
      ]
     },
     "execution_count": 120,
     "metadata": {},
     "output_type": "execute_result"
    },
    {
     "data": {
      "image/png": "[encoded data removed]",
      "text/plain": [
       "<Figure size 1440x360 with 1 Axes>"
      ]
     },
     "metadata": {
      "needs_background": "light"
     },
     "output_type": "display_data"
    }
   ],
   "source": [
    "# Will Demonstate the Dates \n",
    "time =[]\n",
    "for i in range(3166):\n",
    "    time.append(i)\n",
    "\n",
    "#Time-line Plots\n",
    "plt.figure(figsize = (20, 5))\n",
    "plt.plot(time, df3[\"CLOSE\"][30:], color='goldenrod', lw=2)\n",
    "plt.plot(time[:30], svm_prediction, color='deeppink', lw=2)\n",
    "plt.title(\"Bitcoin Price over time\", size=25)\n",
    "plt.xlabel(\"Time\", size=20)\n",
    "plt.ylabel(\"$ Price\", size=20)"
   ]
  }
 ],
 "metadata": {
  "kernelspec": {
   "display_name": "Python 3 (ipykernel)",
   "language": "python",
   "name": "python3"
  },
  "language_info": {
   "codemirror_mode": {
    "name": "ipython",
    "version": 3
   },
   "file_extension": ".py",
   "mimetype": "text/x-python",
   "name": "python",
   "nbconvert_exporter": "python",
   "pygments_lexer": "ipython3",
   "version": "3.9.7"
  }
 },
 "nbformat": 4,
 "nbformat_minor": 5
}

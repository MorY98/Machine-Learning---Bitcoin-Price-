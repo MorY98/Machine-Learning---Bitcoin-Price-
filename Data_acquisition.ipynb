{
 "cells": [
  {
   "cell_type": "markdown",
   "id": "8af081a1",
   "metadata": {},
   "source": [
    "# Import Libraries"
   ]
  },
  {
   "cell_type": "code",
   "execution_count": null,
   "id": "8accee21",
   "metadata": {},
   "outputs": [],
   "source": [
    "# Selenium Import's Librarys\n",
    "from selenium import webdriver\n",
    "from selenium.webdriver.common.keys import Keys\n",
    "from selenium.webdriver.chrome.service import Service\n",
    "from selenium.webdriver.common.by import By\n",
    "from selenium.webdriver.support.ui import WebDriverWait\n",
    "from selenium.webdriver.support import expected_conditions as EC\n",
    "from selenium.webdriver.common.action_chains import ActionChains"
   ]
  },
  {
   "cell_type": "code",
   "execution_count": null,
   "id": "8fe2ca9d",
   "metadata": {},
   "outputs": [],
   "source": [
    "#Time Library For Sleep Mode \n",
    "import time\n",
    "#For Special Signs\n",
    "import re\n",
    "#Create DataFrame\n",
    "import pandas as pd\n",
    "#Create Table\n",
    "import csv\n",
    "#For Requests Google\n",
    "from pytrends.request import TrendReq"
   ]
  },
  {
   "cell_type": "code",
   "execution_count": null,
   "id": "49916efa",
   "metadata": {},
   "outputs": [],
   "source": [
    "#Starting Using Selenium For Crawling Process\n",
    "driver = webdriver.Chrome()\n",
    "\n",
    "#Create The Arrays That the Data Will Be Saved in Them : Lines For The Table And Text For Columns Name\n",
    "lines = []\n",
    "text1 = []"
   ]
  },
  {
   "cell_type": "markdown",
   "id": "97e67130",
   "metadata": {},
   "source": [
    "# Crawling Websites"
   ]
  },
  {
   "cell_type": "code",
   "execution_count": null,
   "id": "d6374e50",
   "metadata": {},
   "outputs": [],
   "source": [
    "# Crawling In The Pages Of The Bitcoin\n",
    "for i in range(1,2):\n",
    "    url = \"https://nomics.com/assets/btc-bitcoin/history/{}\".format(i)\n",
    "    browser = driver.get(url)\n",
    "    elements = driver.find_elements(By.TAG_NAME, 'tr')    \n",
    "    for line in elements:\n",
    "        if(line.text != 'DATE\\nOPEN\\nHIGH\\nLOW\\nCLOSE\\nVOLUME'):\n",
    "            lines.append(line.text)\n",
    "        else:\n",
    "            text1.append(line.text)"
   ]
  },
  {
   "cell_type": "code",
   "execution_count": null,
   "id": "2576f409",
   "metadata": {},
   "outputs": [],
   "source": [
    "#Create The Columns For The Df \n",
    "ColumnName = []\n",
    "Dates1 = []\n",
    "Open1 = []\n",
    "High1 = []\n",
    "Low1 = []\n",
    "Close1 = []\n",
    "Volume1 = []\n",
    "\n",
    "MeanHigh_Low = []\n",
    "MeanOpen_Close = []\n",
    "for i in range(0,6):\n",
    "    # Start Fill The Column Array\n",
    "    ColumnName.append(text1[0].rsplit('\\n')[i])"
   ]
  },
  {
   "cell_type": "markdown",
   "id": "71996fb4",
   "metadata": {},
   "source": [
    "# Making Dataset Columns"
   ]
  },
  {
   "cell_type": "code",
   "execution_count": null,
   "id": "0b9ec7cc",
   "metadata": {},
   "outputs": [],
   "source": [
    "#Start Filling Other Arrays \n",
    "y = 0\n",
    "for i in range (0,len(lines)):\n",
    "    # The Value For Each Array Is Separated And Inset Into The Right Arrays   \n",
    "    Dates1.append(lines[y].rsplit('\\n')[0])\n",
    "    Open1.append(lines[y].rsplit('\\n')[1])\n",
    "    High1.append(lines[y].rsplit('\\n')[2])\n",
    "    Low1.append(lines[y].rsplit('\\n')[3])\n",
    "    Close1.append(lines[y].rsplit('\\n')[4])\n",
    "    Volume1.append(lines[y].rsplit('\\n')[5])\n",
    "    y = y + 1"
   ]
  },
  {
   "cell_type": "code",
   "execution_count": null,
   "id": "49589876",
   "metadata": {},
   "outputs": [],
   "source": [
    "# Delete Special Charcters From the Data\n",
    "for i in range(0,len(Dates1)):\n",
    "    Open1[i] = re.sub(r\"[$,]\",\"\", Open1[i])\n",
    "    High1[i] = re.sub(r\"[$,]\",\"\", High1[i])\n",
    "    Low1[i] = re.sub(r\"[$,]\",\"\", Low1[i])\n",
    "    Close1[i] = re.sub(r\"[$,]\",\"\", Close1[i])\n",
    "    Volume1[i] = re.sub(r\"[$MB]\",\"\", Volume1[i]) \n",
    "    \n",
    "    # Convert String \n",
    "    Open1[i] = float(Open1[i])\n",
    "    High1[i] = float(High1[i])\n",
    "    Low1[i] = float(Low1[i])\n",
    "    Close1[i] = float(Close1[i])\n",
    "    Volume1[i] = float(Volume1[i])"
   ]
  },
  {
   "cell_type": "code",
   "execution_count": null,
   "id": "31d4df6e",
   "metadata": {},
   "outputs": [],
   "source": [
    "# Replace Dates Format For Google and Twitter\n",
    "for i in range(0,len(Dates1)):\n",
    "    temp = Dates1[i]\n",
    "    month = temp.rsplit('/')[0]\n",
    "    if(len(month) == 1):\n",
    "        month = \"0{}\".format(month)    \n",
    "    day = temp.rsplit('/')[1]\n",
    "    if(len(day) == 1):\n",
    "        day = \"0{}\".format(day)\n",
    "    year = temp.rsplit('/')[2]\n",
    "    FinelD = \"{}-{}-{}\".format(year,month,day) \n",
    "    Dates1[i] = FinelD"
   ]
  },
  {
   "cell_type": "code",
   "execution_count": null,
   "id": "2d5606e2",
   "metadata": {},
   "outputs": [],
   "source": [
    "#Enter New Columns Names Befor Starting\n",
    "ColumnName.append(\"MEAN HIGH-LOW\")\n",
    "ColumnName.append(\"MEAN CLOSE-OPEN\")\n",
    "ColumnName.append(\"TRENDS MEAN\")\n",
    "ColumnName.append(\"UP|DOWN\")\n",
    "\n",
    "#Fill The Two Mean Array And Save Resukt As Integers\n",
    "for i in range(0,len(Open1)):\n",
    "    MeanHigh_Low.append((int(Low1[i]) + int(High1[i]))/2)\n",
    "    MeanOpen_Close.append((int(Open1[i]) + int(Close1[i]))/2) "
   ]
  },
  {
   "cell_type": "markdown",
   "id": "7e3caea2",
   "metadata": {},
   "source": [
    "# Trends Application Programming "
   ]
  },
  {
   "cell_type": "code",
   "execution_count": null,
   "id": "09d87424",
   "metadata": {},
   "outputs": [],
   "source": [
    "#Starting Working On Get Data From Google With API\n",
    "PyTredsData = []\n",
    "PyTredsDataFull = []\n",
    "\n",
    "pytrends = TrendReq()\n",
    "kw_list = [\"bitcoin\"] \n",
    "\n",
    "# build the payload\n",
    "for i in range(0, len(Dates1)-1):\n",
    "    timeframe2 =\"{} {}\".format(Dates1[i+1],Dates1[i])\n",
    "    pytrends.build_payload(kw_list, timeframe=\"{} {}\".format(Dates1[i+1],Dates1[i]))\n",
    "    r = pytrends.interest_over_time().mean()\n",
    "    PyTredsData.append(r)\n",
    "for i in range(2, len(PyTredsData)):\n",
    "    PyTredsDataFull.append(PyTredsData[i][\"bitcoin\"]) #Get Out Only The Bitcoin Data   "
   ]
  },
  {
   "cell_type": "code",
   "execution_count": null,
   "id": "4b7a660a",
   "metadata": {},
   "outputs": [],
   "source": [
    "#Add UP or Down Categorial Column \n",
    "UpOrDown = []\n",
    "for i in range(0, len(Open1)):\n",
    "    if(Open1[i] > Close1[i]):\n",
    "        UpOrDown.append(\"DOWN\")\n",
    "    else:\n",
    "        UpOrDown.append(\"UP\")"
   ]
  },
  {
   "cell_type": "code",
   "execution_count": null,
   "id": "0ba43c2e",
   "metadata": {},
   "outputs": [],
   "source": [
    "#Add New Column Name For Tweets\n",
    "ColumnName.append(\"POSITVE ANALZE TWEETS\")\n",
    "ColumnName.append(\"NEGATIVE ANALZE TWEETS\")"
   ]
  },
  {
   "cell_type": "markdown",
   "id": "1a7f6709",
   "metadata": {},
   "source": [
    "# Twitter Scraper "
   ]
  },
  {
   "cell_type": "code",
   "execution_count": null,
   "id": "dcdaa243",
   "metadata": {},
   "outputs": [],
   "source": [
    "#Import Twitter Scraper \n",
    "import snscrape.modules.twitter as sntwitter\n",
    "# Remove Special Charcters From Twitter API Tweet\n",
    "import re\n",
    "# Simplified Text Processing TextBlob is a Python library for processing textual data\n",
    "from textblob import TextBlob"
   ]
  },
  {
   "cell_type": "code",
   "execution_count": null,
   "id": "b40e2494",
   "metadata": {},
   "outputs": [],
   "source": [
    "# Tweets For Once \n",
    "maxTweets = 1000\n",
    "\n",
    "# count the total \n",
    "ListPositive = []\n",
    "ListNegative =[]\n",
    "\n",
    "#Intial Postive\n",
    "positive = 0\n",
    "#Neg \n",
    "negative = 0\n",
    "#Loop The Dates Arrays\n",
    "for x in range(0,len(Dates1)-1):\n",
    "    # Creating The Lists To Append Tweet Data To\n",
    "    tweets_list2 = []\n",
    "    # Using TwitterSearchScraper to scrape data and append tweets to list\n",
    "    a = Dates1[x]\n",
    "    b = Dates1[(x+1)]\n",
    "    for i,tweet in enumerate(sntwitter.TwitterSearchScraper(\"#bitcoin since:\"+ a + \"until:\"+ b +\" -filter:links -filter:replies\").get_items()):\n",
    "        if i > maxTweets:\n",
    "            break\n",
    "        else:\n",
    "            tweets_list2.append(tweet.content)\n",
    "    \n",
    "    #Array After Removement \n",
    "    Tweets_PerDay_done =[]\n",
    "    \n",
    "    #Cleaning The Data\n",
    "    for i in tweets_list2:\n",
    "        new_twee = ' '.join(re.sub(\"(@[A-Za-z0-9]+)|([^0-9A-Za-z \\t])|(\\w+:\\/\\/\\S+)\", \" \", i).split())\n",
    "        Tweets_PerDay_done.append(new_twee)\n",
    "\n",
    "    for i in Tweets_PerDay_done:\n",
    "        #Analze The Data \n",
    "        analysis = TextBlob(i)\n",
    "            # set sentiment\n",
    "        if analysis.sentiment.polarity > 0:\n",
    "            positive += 1\n",
    "        elif analysis.sentiment.polarity < 0:\n",
    "            negative += 1\n",
    "ListPositive.append(positive) \n",
    "ListNegative.append(negative)\n",
    "#intial one more time\n",
    "positive = 0\n",
    "#test\n",
    "negative = 0    "
   ]
  },
  {
   "cell_type": "markdown",
   "id": "35248d95",
   "metadata": {},
   "source": [
    "# Creating File (Comma-Separated)  "
   ]
  },
  {
   "cell_type": "code",
   "execution_count": null,
   "id": "968232c5",
   "metadata": {},
   "outputs": [],
   "source": [
    "rows = zip(Dates1, Open1, High1, Low1, Close1, Volume1, MeanHigh_Low, MeanOpen_Close, PyTredsDataFull, UpOrDown, ListPositive, ListNegative)\n",
    "with open('BitData_Final.csv', 'w', newline=\"\") as f: \n",
    "    write = csv.writer(f) \n",
    "    write.writerow(ColumnName)\n",
    "    for row in rows:\n",
    "        write.writerow(row)"
   ]
  }
 ],
 "metadata": {
  "kernelspec": {
   "display_name": "Python 3 (ipykernel)",
   "language": "python",
   "name": "python3"
  },
  "language_info": {
   "codemirror_mode": {
    "name": "ipython",
    "version": 3
   },
   "file_extension": ".py",
   "mimetype": "text/x-python",
   "name": "python",
   "nbconvert_exporter": "python",
   "pygments_lexer": "ipython3",
   "version": "3.9.7"
  }
 },
 "nbformat": 4,
 "nbformat_minor": 5
}
